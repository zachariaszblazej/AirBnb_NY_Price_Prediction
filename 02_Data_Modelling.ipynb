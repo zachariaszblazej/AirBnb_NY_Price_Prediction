{
 "cells": [
  {
   "cell_type": "markdown",
   "metadata": {},
   "source": [
    "# Data Modelling"
   ]
  },
  {
   "cell_type": "markdown",
   "metadata": {},
   "source": [
    "In this part I was trying to find the best solution for my prediction model. To get started, I needed to import all necessary libraries and files. I also turned warnings off just like in the previous Notebook:"
   ]
  },
  {
   "cell_type": "code",
   "execution_count": 1,
   "metadata": {},
   "outputs": [],
   "source": [
    "import numpy as np\n",
    "import pandas as pd\n",
    "import matplotlib.pyplot as plt\n",
    "import warnings\n",
    "\n",
    "\n",
    "from joblib import dump, load\n",
    "\n",
    "from sklearn import metrics\n",
    "from sklearn.decomposition import PCA\n",
    "from sklearn.ensemble import GradientBoostingRegressor, RandomForestRegressor, VotingRegressor\n",
    "from sklearn.feature_selection import SelectKBest, f_regression\n",
    "from sklearn.impute import SimpleImputer\n",
    "from sklearn.linear_model import Lasso, ElasticNet, LinearRegression\n",
    "from sklearn.model_selection import train_test_split, KFold, GridSearchCV\n",
    "from sklearn.pipeline import Pipeline, make_pipeline\n",
    "from sklearn.preprocessing import StandardScaler, MinMaxScaler, PolynomialFeatures\n",
    "from sklearn.tree import DecisionTreeRegressor\n",
    "\n",
    "from Classes_And_Functions import *\n"
   ]
  },
  {
   "cell_type": "code",
   "execution_count": 2,
   "metadata": {},
   "outputs": [],
   "source": [
    "warnings.filterwarnings('ignore')"
   ]
  },
  {
   "cell_type": "markdown",
   "metadata": {},
   "source": [
    "I loaded the original data in an unchanged form:"
   ]
  },
  {
   "cell_type": "code",
   "execution_count": 3,
   "metadata": {},
   "outputs": [],
   "source": [
    "df = pd.read_csv('data/listings_full.csv')"
   ]
  },
  {
   "cell_type": "code",
   "execution_count": 4,
   "metadata": {
    "scrolled": true
   },
   "outputs": [
    {
     "data": {
      "text/html": [
       "<div>\n",
       "<style scoped>\n",
       "    .dataframe tbody tr th:only-of-type {\n",
       "        vertical-align: middle;\n",
       "    }\n",
       "\n",
       "    .dataframe tbody tr th {\n",
       "        vertical-align: top;\n",
       "    }\n",
       "\n",
       "    .dataframe thead th {\n",
       "        text-align: right;\n",
       "    }\n",
       "</style>\n",
       "<table border=\"1\" class=\"dataframe\">\n",
       "  <thead>\n",
       "    <tr style=\"text-align: right;\">\n",
       "      <th></th>\n",
       "      <th>id</th>\n",
       "      <th>listing_url</th>\n",
       "      <th>scrape_id</th>\n",
       "      <th>last_scraped</th>\n",
       "      <th>name</th>\n",
       "      <th>summary</th>\n",
       "      <th>space</th>\n",
       "      <th>description</th>\n",
       "      <th>experiences_offered</th>\n",
       "      <th>neighborhood_overview</th>\n",
       "      <th>...</th>\n",
       "      <th>instant_bookable</th>\n",
       "      <th>is_business_travel_ready</th>\n",
       "      <th>cancellation_policy</th>\n",
       "      <th>require_guest_profile_picture</th>\n",
       "      <th>require_guest_phone_verification</th>\n",
       "      <th>calculated_host_listings_count</th>\n",
       "      <th>calculated_host_listings_count_entire_homes</th>\n",
       "      <th>calculated_host_listings_count_private_rooms</th>\n",
       "      <th>calculated_host_listings_count_shared_rooms</th>\n",
       "      <th>reviews_per_month</th>\n",
       "    </tr>\n",
       "  </thead>\n",
       "  <tbody>\n",
       "    <tr>\n",
       "      <th>0</th>\n",
       "      <td>2595</td>\n",
       "      <td>https://www.airbnb.com/rooms/2595</td>\n",
       "      <td>20191204162729</td>\n",
       "      <td>2019-12-07</td>\n",
       "      <td>Skylit Midtown Castle</td>\n",
       "      <td>Beautiful, spacious skylit studio in the heart...</td>\n",
       "      <td>- Spacious (500+ft²), immaculate and nicely fu...</td>\n",
       "      <td>Beautiful, spacious skylit studio in the heart...</td>\n",
       "      <td>none</td>\n",
       "      <td>Centrally located in the heart of Manhattan ju...</td>\n",
       "      <td>...</td>\n",
       "      <td>f</td>\n",
       "      <td>f</td>\n",
       "      <td>strict_14_with_grace_period</td>\n",
       "      <td>t</td>\n",
       "      <td>t</td>\n",
       "      <td>1</td>\n",
       "      <td>1</td>\n",
       "      <td>0</td>\n",
       "      <td>0</td>\n",
       "      <td>0.39</td>\n",
       "    </tr>\n",
       "    <tr>\n",
       "      <th>1</th>\n",
       "      <td>3831</td>\n",
       "      <td>https://www.airbnb.com/rooms/3831</td>\n",
       "      <td>20191204162729</td>\n",
       "      <td>2019-12-07</td>\n",
       "      <td>Cozy Entire Floor of Brownstone</td>\n",
       "      <td>Urban retreat: enjoy 500 s.f. floor in 1899 br...</td>\n",
       "      <td>Greetings!      We own a double-duplex brownst...</td>\n",
       "      <td>Urban retreat: enjoy 500 s.f. floor in 1899 br...</td>\n",
       "      <td>none</td>\n",
       "      <td>Just the right mix of urban center and local n...</td>\n",
       "      <td>...</td>\n",
       "      <td>f</td>\n",
       "      <td>f</td>\n",
       "      <td>moderate</td>\n",
       "      <td>f</td>\n",
       "      <td>f</td>\n",
       "      <td>1</td>\n",
       "      <td>1</td>\n",
       "      <td>0</td>\n",
       "      <td>0</td>\n",
       "      <td>4.67</td>\n",
       "    </tr>\n",
       "    <tr>\n",
       "      <th>2</th>\n",
       "      <td>5099</td>\n",
       "      <td>https://www.airbnb.com/rooms/5099</td>\n",
       "      <td>20191204162729</td>\n",
       "      <td>2019-12-06</td>\n",
       "      <td>Large Cozy 1 BR Apartment In Midtown East</td>\n",
       "      <td>My large 1 bedroom apartment has a true New Yo...</td>\n",
       "      <td>I have a large 1 bedroom apartment centrally l...</td>\n",
       "      <td>My large 1 bedroom apartment has a true New Yo...</td>\n",
       "      <td>none</td>\n",
       "      <td>My neighborhood in Midtown East is called Murr...</td>\n",
       "      <td>...</td>\n",
       "      <td>f</td>\n",
       "      <td>f</td>\n",
       "      <td>moderate</td>\n",
       "      <td>t</td>\n",
       "      <td>t</td>\n",
       "      <td>1</td>\n",
       "      <td>1</td>\n",
       "      <td>0</td>\n",
       "      <td>0</td>\n",
       "      <td>0.60</td>\n",
       "    </tr>\n",
       "    <tr>\n",
       "      <th>3</th>\n",
       "      <td>5121</td>\n",
       "      <td>https://www.airbnb.com/rooms/5121</td>\n",
       "      <td>20191204162729</td>\n",
       "      <td>2019-12-06</td>\n",
       "      <td>BlissArtsSpace!</td>\n",
       "      <td>NaN</td>\n",
       "      <td>HELLO EVERYONE AND THANKS FOR VISITING BLISS A...</td>\n",
       "      <td>HELLO EVERYONE AND THANKS FOR VISITING BLISS A...</td>\n",
       "      <td>none</td>\n",
       "      <td>NaN</td>\n",
       "      <td>...</td>\n",
       "      <td>f</td>\n",
       "      <td>f</td>\n",
       "      <td>strict_14_with_grace_period</td>\n",
       "      <td>f</td>\n",
       "      <td>f</td>\n",
       "      <td>1</td>\n",
       "      <td>0</td>\n",
       "      <td>1</td>\n",
       "      <td>0</td>\n",
       "      <td>0.38</td>\n",
       "    </tr>\n",
       "    <tr>\n",
       "      <th>4</th>\n",
       "      <td>5178</td>\n",
       "      <td>https://www.airbnb.com/rooms/5178</td>\n",
       "      <td>20191204162729</td>\n",
       "      <td>2019-12-05</td>\n",
       "      <td>Large Furnished Room Near B'way</td>\n",
       "      <td>Please don’t expect the luxury here just a bas...</td>\n",
       "      <td>You will use one large, furnished, private roo...</td>\n",
       "      <td>Please don’t expect the luxury here just a bas...</td>\n",
       "      <td>none</td>\n",
       "      <td>Theater district, many restaurants around here.</td>\n",
       "      <td>...</td>\n",
       "      <td>f</td>\n",
       "      <td>f</td>\n",
       "      <td>strict_14_with_grace_period</td>\n",
       "      <td>f</td>\n",
       "      <td>f</td>\n",
       "      <td>1</td>\n",
       "      <td>0</td>\n",
       "      <td>1</td>\n",
       "      <td>0</td>\n",
       "      <td>3.52</td>\n",
       "    </tr>\n",
       "  </tbody>\n",
       "</table>\n",
       "<p>5 rows × 106 columns</p>\n",
       "</div>"
      ],
      "text/plain": [
       "     id                        listing_url       scrape_id last_scraped  \\\n",
       "0  2595  https://www.airbnb.com/rooms/2595  20191204162729   2019-12-07   \n",
       "1  3831  https://www.airbnb.com/rooms/3831  20191204162729   2019-12-07   \n",
       "2  5099  https://www.airbnb.com/rooms/5099  20191204162729   2019-12-06   \n",
       "3  5121  https://www.airbnb.com/rooms/5121  20191204162729   2019-12-06   \n",
       "4  5178  https://www.airbnb.com/rooms/5178  20191204162729   2019-12-05   \n",
       "\n",
       "                                        name  \\\n",
       "0                      Skylit Midtown Castle   \n",
       "1            Cozy Entire Floor of Brownstone   \n",
       "2  Large Cozy 1 BR Apartment In Midtown East   \n",
       "3                            BlissArtsSpace!   \n",
       "4           Large Furnished Room Near B'way    \n",
       "\n",
       "                                             summary  \\\n",
       "0  Beautiful, spacious skylit studio in the heart...   \n",
       "1  Urban retreat: enjoy 500 s.f. floor in 1899 br...   \n",
       "2  My large 1 bedroom apartment has a true New Yo...   \n",
       "3                                                NaN   \n",
       "4  Please don’t expect the luxury here just a bas...   \n",
       "\n",
       "                                               space  \\\n",
       "0  - Spacious (500+ft²), immaculate and nicely fu...   \n",
       "1  Greetings!      We own a double-duplex brownst...   \n",
       "2  I have a large 1 bedroom apartment centrally l...   \n",
       "3  HELLO EVERYONE AND THANKS FOR VISITING BLISS A...   \n",
       "4  You will use one large, furnished, private roo...   \n",
       "\n",
       "                                         description experiences_offered  \\\n",
       "0  Beautiful, spacious skylit studio in the heart...                none   \n",
       "1  Urban retreat: enjoy 500 s.f. floor in 1899 br...                none   \n",
       "2  My large 1 bedroom apartment has a true New Yo...                none   \n",
       "3  HELLO EVERYONE AND THANKS FOR VISITING BLISS A...                none   \n",
       "4  Please don’t expect the luxury here just a bas...                none   \n",
       "\n",
       "                               neighborhood_overview  ... instant_bookable  \\\n",
       "0  Centrally located in the heart of Manhattan ju...  ...                f   \n",
       "1  Just the right mix of urban center and local n...  ...                f   \n",
       "2  My neighborhood in Midtown East is called Murr...  ...                f   \n",
       "3                                                NaN  ...                f   \n",
       "4    Theater district, many restaurants around here.  ...                f   \n",
       "\n",
       "  is_business_travel_ready          cancellation_policy  \\\n",
       "0                        f  strict_14_with_grace_period   \n",
       "1                        f                     moderate   \n",
       "2                        f                     moderate   \n",
       "3                        f  strict_14_with_grace_period   \n",
       "4                        f  strict_14_with_grace_period   \n",
       "\n",
       "  require_guest_profile_picture require_guest_phone_verification  \\\n",
       "0                             t                                t   \n",
       "1                             f                                f   \n",
       "2                             t                                t   \n",
       "3                             f                                f   \n",
       "4                             f                                f   \n",
       "\n",
       "   calculated_host_listings_count  \\\n",
       "0                               1   \n",
       "1                               1   \n",
       "2                               1   \n",
       "3                               1   \n",
       "4                               1   \n",
       "\n",
       "   calculated_host_listings_count_entire_homes  \\\n",
       "0                                            1   \n",
       "1                                            1   \n",
       "2                                            1   \n",
       "3                                            0   \n",
       "4                                            0   \n",
       "\n",
       "  calculated_host_listings_count_private_rooms  \\\n",
       "0                                            0   \n",
       "1                                            0   \n",
       "2                                            0   \n",
       "3                                            1   \n",
       "4                                            1   \n",
       "\n",
       "   calculated_host_listings_count_shared_rooms  reviews_per_month  \n",
       "0                                            0               0.39  \n",
       "1                                            0               4.67  \n",
       "2                                            0               0.60  \n",
       "3                                            0               0.38  \n",
       "4                                            0               3.52  \n",
       "\n",
       "[5 rows x 106 columns]"
      ]
     },
     "execution_count": 4,
     "metadata": {},
     "output_type": "execute_result"
    }
   ],
   "source": [
    "df.head()"
   ]
  },
  {
   "cell_type": "markdown",
   "metadata": {},
   "source": [
    "Since the original dataset does not have **log_price** column by default, I had to perform similar operations as in Part 1 to get this feature and remove **price** column completely: "
   ]
  },
  {
   "cell_type": "code",
   "execution_count": 5,
   "metadata": {},
   "outputs": [],
   "source": [
    "df['price'] = df['price'].apply(lambda x: remove_nonnumeric_chars(x))\n",
    "df['price'] = df['price'].astype('float')\n",
    "df['log_price'] = df['price'].apply(lambda x: np.log(x+1))\n",
    "df.drop(columns=['price'], inplace=True)"
   ]
  },
  {
   "cell_type": "markdown",
   "metadata": {},
   "source": [
    "After getting **log_price** feature, I could divide the whole dataset to target feature *y* which is **log_price** and the predictor variables called *X*."
   ]
  },
  {
   "cell_type": "code",
   "execution_count": 6,
   "metadata": {},
   "outputs": [],
   "source": [
    "y = df['log_price']\n",
    "X = df.drop(columns=['log_price'])"
   ]
  },
  {
   "cell_type": "markdown",
   "metadata": {},
   "source": [
    "Using Scikit-learn built-in *train_test_split* function, I divided my data into train and validation set. The first one was used to fit all possible models. The second was used to see how all fitted estimators predicted **log_price** on a data the model had not seen before.\n",
    "\n",
    "I decided to make the validation set with 20% of my training data and keep the rest as my train set:"
   ]
  },
  {
   "cell_type": "code",
   "execution_count": 7,
   "metadata": {},
   "outputs": [],
   "source": [
    "X_train, X_test, y_train, y_test = train_test_split(X, y, test_size=0.2, random_state=123)"
   ]
  },
  {
   "cell_type": "markdown",
   "metadata": {},
   "source": [
    "I retrieved *columns_to_remove* list as well as loaded *preprocessing_pipeline* .joblib file from *01_Data_processing* Notebook and transformed both train set and validation set with this pipeline. I have transformed both sets separately as to avoid 'data leakage':"
   ]
  },
  {
   "cell_type": "code",
   "execution_count": 8,
   "metadata": {},
   "outputs": [],
   "source": [
    "columns_to_remove = ['last_review',\n",
    " 'calendar_last_scraped',\n",
    " 'reviews_per_month',\n",
    " 'bed_type',\n",
    " 'availability_30',\n",
    " 'notes',\n",
    " 'neighbourhood',\n",
    " 'room_type',\n",
    " 'country_code',\n",
    " 'first_review',\n",
    " 'calendar_updated',\n",
    " 'street',\n",
    " 'host_total_listings_count',\n",
    " 'host_acceptance_rate',\n",
    " 'scrape_id',\n",
    " 'calculated_host_listings_count_private_rooms',\n",
    " 'host_picture_url',\n",
    " 'is_business_travel_ready',\n",
    " 'host_response_rate',\n",
    " 'experiences_offered',\n",
    " 'minimum_minimum_nights',\n",
    " 'maximum_maximum_nights',\n",
    " 'market',\n",
    " 'host_is_superhost',\n",
    " 'availability_60',\n",
    " 'picture_url',\n",
    " 'host_response_time',\n",
    " 'require_guest_profile_picture',\n",
    " 'interaction',\n",
    " 'host_url',\n",
    " 'host_neighbourhood',\n",
    " 'host_location',\n",
    " 'review_scores_accuracy',\n",
    " 'thumbnail_url',\n",
    " 'maximum_nights',\n",
    " 'summary',\n",
    " 'has_availability',\n",
    " 'number_of_reviews_ltm',\n",
    " 'city',\n",
    " 'name',\n",
    " 'amenities',\n",
    " 'neighbourhood_group_cleansed',\n",
    " 'host_thumbnail_url',\n",
    " 'access',\n",
    " 'host_name',\n",
    " 'minimum_nights',\n",
    " 'host_verifications',\n",
    " 'maximum_minimum_nights',\n",
    " 'jurisdiction_names',\n",
    " 'neighbourhood_cleansed',\n",
    " 'last_scraped',\n",
    " 'maximum_nights_avg_ntm',\n",
    " 'host_about',\n",
    " 'property_type',\n",
    " 'listing_url',\n",
    " 'minimum_nights_avg_ntm',\n",
    " 'host_listings_count',\n",
    " 'availability_90',\n",
    " 'description',\n",
    " 'house_rules',\n",
    " 'state',\n",
    " 'medium_url',\n",
    " 'space',\n",
    " 'calculated_host_listings_count_shared_rooms',\n",
    " 'id',\n",
    " 'host_has_profile_pic',\n",
    " 'smart_location',\n",
    " 'neighborhood_overview',\n",
    " 'minimum_maximum_nights',\n",
    " 'review_scores_value',\n",
    " 'host_id',\n",
    " 'country',\n",
    " 'requires_license',\n",
    " 'review_scores_communication',\n",
    " 'weekly_price',\n",
    " 'calculated_host_listings_count_entire_homes',\n",
    " 'xl_picture_url',\n",
    " 'is_location_exact',\n",
    " 'transit',\n",
    " 'monthly_price',\n",
    " 'review_scores_checkin',\n",
    " 'license',\n",
    " 'require_guest_phone_verification',\n",
    " 'zipcode',\n",
    " 'host_since',\n",
    " 'review_scores_cleanliness',\n",
    " 'square_feet']\n",
    "\n",
    "data_compiled_date = pd.Timestamp(2019, 12, 8)\n",
    "preprocessing_pipeline = load('preprocessing_pipeline.joblib')"
   ]
  },
  {
   "cell_type": "code",
   "execution_count": 9,
   "metadata": {},
   "outputs": [],
   "source": [
    "X_train = preprocessing_pipeline.fit_transform(X_train)\n",
    "X_test = preprocessing_pipeline.fit_transform(X_test)\n",
    "\n",
    "X_train_preprocessed = X_train\n",
    "X_test_preprocessed = X_test"
   ]
  },
  {
   "cell_type": "markdown",
   "metadata": {},
   "source": [
    "Having both sets cleaned and prepared for modelling, I was able to start looking for a best possible model for predicting Airbnb listing's price. \n",
    "\n",
    "In order to maintain the modelling process, I saved train set and validation set after preprocessing transformations to *X_train_preprocessed* and *X_test_preprocessed* variables. Thanks to that, I would be able to quickly retrieve train set and validation set to the \"after-preprocessing\" stage whereas modyfing the preprocessed sets with scaling or other methods."
   ]
  },
  {
   "cell_type": "markdown",
   "metadata": {},
   "source": [
    "## Model research"
   ]
  },
  {
   "cell_type": "markdown",
   "metadata": {},
   "source": [
    "To find a best suitable predictor for the listing's price, I have decided to go through a couple of options of data representation, choose the one model that worked best and apply the best solution to the test set that is going to be introduced in Part 3 of this project.\n",
    "\n",
    "To measure which predictor is the best one, I have chosen MSE (Mean Squared Error) as my main metrics. Each model taken into consideration was fitted on the train set, then the fitted estimator predicted values for both train and the validation set to get 'training error' and 'test error' and displayed information about R2 and MSE metrics. When I was looking for the best solution not only did I look at MSE itself. I also took into account the R2 metrics as well as difference between training and test error to claim if certain estimator tends to overfitting."
   ]
  },
  {
   "cell_type": "markdown",
   "metadata": {},
   "source": [
    "### Model \"zero\""
   ]
  },
  {
   "cell_type": "markdown",
   "metadata": {},
   "source": [
    "To have some reference at start, I took my preprocessed data and fitted them in the simple model. As a model \"zero\" I have chosen LinearRegression()."
   ]
  },
  {
   "cell_type": "code",
   "execution_count": 10,
   "metadata": {},
   "outputs": [
    {
     "name": "stdout",
     "output_type": "stream",
     "text": [
      "Model 0: \n",
      " Train dataset prediction results: -R2:0.572023279949442, MSE: 0.2135125283409154\n",
      "\n",
      " Test dataset prediction results:  -R2:0.570408176106705, MSE: 0.21271287069582728\n",
      "\n"
     ]
    }
   ],
   "source": [
    "model_0 = LinearRegression()\n",
    "model_0.fit(X_train, y_train)\n",
    "\n",
    "y_pred_train = model_0.predict(X_train)\n",
    "r2_train = metrics.r2_score(y_true=y_train, y_pred=y_pred_train)\n",
    "mse_train = metrics.mean_squared_error(y_true=y_train, y_pred=y_pred_train)\n",
    "\n",
    "y_pred = model_0.predict(X_test)\n",
    "r2 = metrics.r2_score(y_true=y_test, y_pred=y_pred)\n",
    "mse = metrics.mean_squared_error(y_true=y_test, y_pred=y_pred)\n",
    "\n",
    "print(f'Model 0: \\n Train dataset prediction results: -R2:{r2_train}, MSE: {mse_train}\\n')\n",
    "print(f' Test dataset prediction results:  -R2:{r2}, MSE: {mse}\\n')\n"
   ]
  },
  {
   "cell_type": "markdown",
   "metadata": {},
   "source": [
    "## Data representation options"
   ]
  },
  {
   "cell_type": "markdown",
   "metadata": {},
   "source": [
    "### Models template\n",
    "\n",
    "At this stage, I wanted to go through different combinations of data premodelling and tested the same estimators for each solution so I created *get_best_models* function which takes both train and validation set and actual **log_price** values as arguments. \n",
    "\n",
    "The function performs fitting on set of models I had chosen and predicts **log_price** with usage of best fitted estimators. \n",
    "\n",
    "Finally, the function returns *results* Dataframe containing prediction results (R2 and MAE metrics for both, train and validation set) for each estimator and *estimators* - list of best fitted estimators.  \n",
    "\n",
    "For 'models template' I have chosen:\n",
    "+ Linear Regression - grid-searched\n",
    "+ ElasticNet - grid-searched\n",
    "+ Lasso - grid-searched\n",
    "+ Decision Tree Regressor - grid-searched\n",
    "+ Random Forest Regressor - default model\n",
    "+ Voting Regressor - combination of 5 first models\n",
    "+ Gradient Boosting Regressor - default model\n"
   ]
  },
  {
   "cell_type": "code",
   "execution_count": 11,
   "metadata": {},
   "outputs": [],
   "source": [
    "def get_best_models(X_train, X_test, y_train, y_test):\n",
    "    \n",
    "    kfold = KFold(n_splits=5, random_state=123)\n",
    "    \n",
    "    grid_1 = GridSearchCV(make_pipeline(PolynomialFeatures(), LinearRegression()),\n",
    "                    param_grid={'polynomialfeatures__degree': [1, 2]},\n",
    "                    cv=kfold,\n",
    "                    refit=True)\n",
    "    grid_1.fit(X_train, y_train)\n",
    "    \n",
    "    \n",
    "    grid_2 = GridSearchCV(make_pipeline(PolynomialFeatures(), ElasticNet()),\n",
    "                        param_grid={'polynomialfeatures__degree': [1, 2],\n",
    "                        'elasticnet__alpha': [0.0001, 0.001, 0.01, 0.1, 1, 10]},\n",
    "                        cv=kfold,\n",
    "                        refit=True)\n",
    "    grid_2.fit(X_train, y_train)\n",
    "    \n",
    "    grid_3 = GridSearchCV(make_pipeline(PolynomialFeatures(), Lasso()),\n",
    "                        param_grid={'polynomialfeatures__degree': [1, 2],\n",
    "                        'lasso__alpha': [0.0001, 0.001, 0.01, 0.1, 1, 10]},\n",
    "                        cv=kfold,\n",
    "                        refit=True)\n",
    "    grid_3.fit(X_train, y_train)\n",
    "    \n",
    "    grid_4 = GridSearchCV(make_pipeline(PolynomialFeatures(), DecisionTreeRegressor()),\n",
    "                        param_grid={'polynomialfeatures__degree': [1, 2],\n",
    "                                    'decisiontreeregressor__splitter': ['best', 'random'],\n",
    "                                    'decisiontreeregressor__max_depth': [4, 8, 10]},\n",
    "                        cv=kfold,\n",
    "                        refit=True)\n",
    "    \n",
    "    \n",
    "    grid_4.fit(X_train, y_train)\n",
    "   \n",
    "    \n",
    "    model_5 = RandomForestRegressor()\n",
    "    model_5.fit(X_train, y_train)\n",
    "    \n",
    "    model_6 = VotingRegressor([\n",
    "        ('LR', grid_1.best_estimator_), \n",
    "        ('ElasticNet', grid_2.best_estimator_), \n",
    "        ('Lasso', grid_3.best_estimator_), \n",
    "        ('Decision Tree', grid_4.best_estimator_),\n",
    "        ('Random Forest Regressor', model_5)])\n",
    "    model_6.fit(X_train, y_train)\n",
    "    \n",
    "    model_7 = GradientBoostingRegressor()\n",
    "    model_7.fit(X_train, y_train)\n",
    "    \n",
    "    models = [\n",
    "        ('Linear Regression', grid_1.best_estimator_),\n",
    "        ('ElasticNet', grid_2.best_estimator_),\n",
    "        ('Lasso', grid_3.best_estimator_),\n",
    "        ('Decision Tree Regressor', grid_4.best_estimator_),\n",
    "        ('Random Forest Regressor', model_5),\n",
    "        ('Voting Regressor', model_6),\n",
    "        ('Gradient Boosting Regressor', model_7)\n",
    "        \n",
    "    ]\n",
    "    \n",
    "    estimators = []\n",
    "   \n",
    "    \n",
    "    results = pd.DataFrame(columns=['Model', 'R2 train', 'MSE train', 'R2 test', 'MSE test'])\n",
    "    \n",
    "    for name, model in models:\n",
    "        \n",
    "        estimators.append(model)\n",
    "        \n",
    "        y_pred_train = model.predict(X_train)\n",
    "        r2_train = metrics.r2_score(y_true=y_train, y_pred=y_pred_train)\n",
    "        mse_train = metrics.mean_squared_error(y_true=y_train, y_pred=y_pred_train)\n",
    "        \n",
    "        y_pred = model.predict(X_test)\n",
    "        r2 = metrics.r2_score(y_true=y_test, y_pred=y_pred)\n",
    "        mse = metrics.mean_squared_error(y_true=y_test, y_pred=y_pred)\n",
    "        \n",
    "        row = pd.Series(data=[name, r2_train, mse_train, r2, mse], index=results.columns.tolist())\n",
    "        results = results.append(row, ignore_index=True)\n",
    "        \n",
    "    \n",
    "    return [results, estimators]"
   ]
  },
  {
   "cell_type": "markdown",
   "metadata": {},
   "source": [
    "### Dimensionality reduction"
   ]
  },
  {
   "cell_type": "code",
   "execution_count": 12,
   "metadata": {},
   "outputs": [
    {
     "data": {
      "text/plain": [
       "39"
      ]
     },
     "execution_count": 12,
     "metadata": {},
     "output_type": "execute_result"
    }
   ],
   "source": [
    "len(X_train.columns)"
   ]
  },
  {
   "cell_type": "markdown",
   "metadata": {},
   "source": [
    "As my preprocessed dataset consisted of 39 predictor variables, I tried decreasing number of features to improve future model's performances. One of the ways I achieved that was using Principal Component Analysis algorithm. \n",
    "\n",
    "PCA takes original features within dataset and transforms them, therefore, creating completely new variables, orthogonal to each other. It does it in such a way it keeps relevant information (variance) while decreasing number of features at the same time.\n",
    "\n",
    "However, PCA requires data scaling because if certain features have different ranges of values, then i.e. the ones with higher scale have a bigger variance which blurs PCA results.\n",
    "\n",
    "As I could not find the one right answer on what scaler to choose to perform PCA, I have decided to go on with *MinMaxScaler* and *StandardScaler* and compare the results."
   ]
  },
  {
   "cell_type": "code",
   "execution_count": 13,
   "metadata": {},
   "outputs": [],
   "source": [
    "mms = MinMaxScaler()\n",
    "X_train_mms = mms.fit_transform(X_train)"
   ]
  },
  {
   "cell_type": "markdown",
   "metadata": {},
   "source": [
    "To see how many components I have to take to perform PCA I made a plot, showing number of features related to percentage of explained variance.\n",
    "I put lines on number of components for the percentages of variance I was going to try out:"
   ]
  },
  {
   "cell_type": "code",
   "execution_count": 14,
   "metadata": {},
   "outputs": [
    {
     "data": {
      "image/png": "[encoded data removed]",
      "text/plain": [
       "<Figure size 864x432 with 1 Axes>"
      ]
     },
     "metadata": {
      "needs_background": "light"
     },
     "output_type": "display_data"
    }
   ],
   "source": [
    "pca = PCA().fit(X_train_mms)\n",
    "\n",
    "plt.rcParams[\"figure.figsize\"] = (12,6)\n",
    "\n",
    "fig, ax = plt.subplots()\n",
    "xi = np.arange(1, 40, step=1)\n",
    "y = np.cumsum(pca.explained_variance_ratio_)\n",
    "\n",
    "plt.ylim(0.0,1.1)\n",
    "plt.plot(xi, y, marker='o', linestyle='--', color='b')\n",
    "\n",
    "plt.xlabel('Number of Components')\n",
    "plt.xticks(np.arange(0, 40, step=1))\n",
    "plt.ylabel('Cumulative variance (%)')\n",
    "plt.title('The number of components needed to explain variance - MinMax Scaler')\n",
    "\n",
    "plt.axhline(y=0.95, color='r', linestyle='-')\n",
    "plt.axhline(y=0.8, color='g', linestyle='-')\n",
    "\n",
    "\n",
    "plt.text(0.5, 0.85, '95% variance', color = 'red', fontsize=16)\n",
    "plt.text(0.5, 0.75, '80% variance', color = 'green', fontsize=16)\n",
    "\n",
    "ax.grid(axis='x')\n",
    "plt.show()"
   ]
  },
  {
   "cell_type": "markdown",
   "metadata": {},
   "source": [
    "### MinMaxScaler + PCA(20)\n",
    "\n",
    "According to the plot, in order to have 95% explained variance on MinMaxScaled data I needed to take 20 components while using PCA, so I have created a *premodelling_pipeline* where the train set is scaled with *MinMaxScaler* and treated with PCA with 20 components."
   ]
  },
  {
   "cell_type": "code",
   "execution_count": 15,
   "metadata": {},
   "outputs": [],
   "source": [
    "premodelling_pipeline = Pipeline(steps=[\n",
    "    ('scaler', MinMaxScaler()),\n",
    "    ('pca', PCA(n_components=20))\n",
    "])\n",
    "\n",
    "X_train_premodelled = premodelling_pipeline.fit_transform(X_train)\n",
    "X_test_premodelled = premodelling_pipeline.transform(X_test)"
   ]
  },
  {
   "cell_type": "code",
   "execution_count": 16,
   "metadata": {},
   "outputs": [
    {
     "name": "stdout",
     "output_type": "stream",
     "text": [
      "Results: \n"
     ]
    },
    {
     "data": {
      "text/html": [
       "<div>\n",
       "<style scoped>\n",
       "    .dataframe tbody tr th:only-of-type {\n",
       "        vertical-align: middle;\n",
       "    }\n",
       "\n",
       "    .dataframe tbody tr th {\n",
       "        vertical-align: top;\n",
       "    }\n",
       "\n",
       "    .dataframe thead th {\n",
       "        text-align: right;\n",
       "    }\n",
       "</style>\n",
       "<table border=\"1\" class=\"dataframe\">\n",
       "  <thead>\n",
       "    <tr style=\"text-align: right;\">\n",
       "      <th></th>\n",
       "      <th>Model</th>\n",
       "      <th>R2 train</th>\n",
       "      <th>MSE train</th>\n",
       "      <th>R2 test</th>\n",
       "      <th>MSE test</th>\n",
       "    </tr>\n",
       "  </thead>\n",
       "  <tbody>\n",
       "    <tr>\n",
       "      <th>0</th>\n",
       "      <td>Linear Regression</td>\n",
       "      <td>0.530215</td>\n",
       "      <td>0.234370</td>\n",
       "      <td>0.527411</td>\n",
       "      <td>0.234003</td>\n",
       "    </tr>\n",
       "    <tr>\n",
       "      <th>1</th>\n",
       "      <td>ElasticNet</td>\n",
       "      <td>0.516395</td>\n",
       "      <td>0.241265</td>\n",
       "      <td>0.515253</td>\n",
       "      <td>0.240023</td>\n",
       "    </tr>\n",
       "    <tr>\n",
       "      <th>2</th>\n",
       "      <td>Lasso</td>\n",
       "      <td>0.510229</td>\n",
       "      <td>0.244341</td>\n",
       "      <td>0.509429</td>\n",
       "      <td>0.242907</td>\n",
       "    </tr>\n",
       "    <tr>\n",
       "      <th>3</th>\n",
       "      <td>Decision Tree Regressor</td>\n",
       "      <td>0.473978</td>\n",
       "      <td>0.262426</td>\n",
       "      <td>0.393411</td>\n",
       "      <td>0.300353</td>\n",
       "    </tr>\n",
       "    <tr>\n",
       "      <th>4</th>\n",
       "      <td>Random Forest Regressor</td>\n",
       "      <td>0.929142</td>\n",
       "      <td>0.035350</td>\n",
       "      <td>0.490830</td>\n",
       "      <td>0.252116</td>\n",
       "    </tr>\n",
       "    <tr>\n",
       "      <th>5</th>\n",
       "      <td>Voting Regressor</td>\n",
       "      <td>0.651403</td>\n",
       "      <td>0.173911</td>\n",
       "      <td>0.530054</td>\n",
       "      <td>0.232694</td>\n",
       "    </tr>\n",
       "    <tr>\n",
       "      <th>6</th>\n",
       "      <td>Gradient Boosting Regressor</td>\n",
       "      <td>0.492886</td>\n",
       "      <td>0.252993</td>\n",
       "      <td>0.468325</td>\n",
       "      <td>0.263259</td>\n",
       "    </tr>\n",
       "  </tbody>\n",
       "</table>\n",
       "</div>"
      ],
      "text/plain": [
       "                         Model  R2 train  MSE train   R2 test  MSE test\n",
       "0            Linear Regression  0.530215   0.234370  0.527411  0.234003\n",
       "1                   ElasticNet  0.516395   0.241265  0.515253  0.240023\n",
       "2                        Lasso  0.510229   0.244341  0.509429  0.242907\n",
       "3      Decision Tree Regressor  0.473978   0.262426  0.393411  0.300353\n",
       "4      Random Forest Regressor  0.929142   0.035350  0.490830  0.252116\n",
       "5             Voting Regressor  0.651403   0.173911  0.530054  0.232694\n",
       "6  Gradient Boosting Regressor  0.492886   0.252993  0.468325  0.263259"
      ]
     },
     "execution_count": 16,
     "metadata": {},
     "output_type": "execute_result"
    }
   ],
   "source": [
    "minmax_pca_20_results, minmax_pca_20_estimators = get_best_models(X_train_premodelled, X_test_premodelled, y_train, y_test)\n",
    "\n",
    "print('Results: ')\n",
    "minmax_pca_20_results"
   ]
  },
  {
   "cell_type": "markdown",
   "metadata": {},
   "source": [
    "This solution was not very satisfying.\n",
    "\n",
    "All models performed worse than \"model 0\" except for *VotingRegressor* and *RandomForestRegressor* which happened to predict **log_price** on a training set better, but a model which can predict only the data it had seen before is definitely not a good one!"
   ]
  },
  {
   "cell_type": "markdown",
   "metadata": {},
   "source": [
    "### MinMaxScaler + PCA ( 12)"
   ]
  },
  {
   "cell_type": "markdown",
   "metadata": {},
   "source": [
    "Seeing not good results for using PCA with 20 components, I decided to go with the same approach but this time implementing PCA with 12 components which would keep 80% of variance according to the plot generated before:"
   ]
  },
  {
   "cell_type": "code",
   "execution_count": 17,
   "metadata": {},
   "outputs": [],
   "source": [
    "#reset X_train, X_test\n",
    "X_train = X_train_preprocessed\n",
    "X_test = X_test_preprocessed"
   ]
  },
  {
   "cell_type": "code",
   "execution_count": 18,
   "metadata": {},
   "outputs": [
    {
     "name": "stdout",
     "output_type": "stream",
     "text": [
      "Results: \n"
     ]
    },
    {
     "data": {
      "text/html": [
       "<div>\n",
       "<style scoped>\n",
       "    .dataframe tbody tr th:only-of-type {\n",
       "        vertical-align: middle;\n",
       "    }\n",
       "\n",
       "    .dataframe tbody tr th {\n",
       "        vertical-align: top;\n",
       "    }\n",
       "\n",
       "    .dataframe thead th {\n",
       "        text-align: right;\n",
       "    }\n",
       "</style>\n",
       "<table border=\"1\" class=\"dataframe\">\n",
       "  <thead>\n",
       "    <tr style=\"text-align: right;\">\n",
       "      <th></th>\n",
       "      <th>Model</th>\n",
       "      <th>R2 train</th>\n",
       "      <th>MSE train</th>\n",
       "      <th>R2 test</th>\n",
       "      <th>MSE test</th>\n",
       "    </tr>\n",
       "  </thead>\n",
       "  <tbody>\n",
       "    <tr>\n",
       "      <th>0</th>\n",
       "      <td>Linear Regression</td>\n",
       "      <td>0.438453</td>\n",
       "      <td>0.280149</td>\n",
       "      <td>0.439518</td>\n",
       "      <td>0.277523</td>\n",
       "    </tr>\n",
       "    <tr>\n",
       "      <th>1</th>\n",
       "      <td>ElasticNet</td>\n",
       "      <td>0.438412</td>\n",
       "      <td>0.280170</td>\n",
       "      <td>0.439335</td>\n",
       "      <td>0.277614</td>\n",
       "    </tr>\n",
       "    <tr>\n",
       "      <th>2</th>\n",
       "      <td>Lasso</td>\n",
       "      <td>0.438322</td>\n",
       "      <td>0.280215</td>\n",
       "      <td>0.439136</td>\n",
       "      <td>0.277712</td>\n",
       "    </tr>\n",
       "    <tr>\n",
       "      <th>3</th>\n",
       "      <td>Decision Tree Regressor</td>\n",
       "      <td>0.437286</td>\n",
       "      <td>0.280731</td>\n",
       "      <td>0.356368</td>\n",
       "      <td>0.318695</td>\n",
       "    </tr>\n",
       "    <tr>\n",
       "      <th>4</th>\n",
       "      <td>Random Forest Regressor</td>\n",
       "      <td>0.925763</td>\n",
       "      <td>0.037036</td>\n",
       "      <td>0.458879</td>\n",
       "      <td>0.267937</td>\n",
       "    </tr>\n",
       "    <tr>\n",
       "      <th>5</th>\n",
       "      <td>Voting Regressor</td>\n",
       "      <td>0.596939</td>\n",
       "      <td>0.201082</td>\n",
       "      <td>0.465081</td>\n",
       "      <td>0.264866</td>\n",
       "    </tr>\n",
       "    <tr>\n",
       "      <th>6</th>\n",
       "      <td>Gradient Boosting Regressor</td>\n",
       "      <td>0.447844</td>\n",
       "      <td>0.275464</td>\n",
       "      <td>0.420182</td>\n",
       "      <td>0.287097</td>\n",
       "    </tr>\n",
       "  </tbody>\n",
       "</table>\n",
       "</div>"
      ],
      "text/plain": [
       "                         Model  R2 train  MSE train   R2 test  MSE test\n",
       "0            Linear Regression  0.438453   0.280149  0.439518  0.277523\n",
       "1                   ElasticNet  0.438412   0.280170  0.439335  0.277614\n",
       "2                        Lasso  0.438322   0.280215  0.439136  0.277712\n",
       "3      Decision Tree Regressor  0.437286   0.280731  0.356368  0.318695\n",
       "4      Random Forest Regressor  0.925763   0.037036  0.458879  0.267937\n",
       "5             Voting Regressor  0.596939   0.201082  0.465081  0.264866\n",
       "6  Gradient Boosting Regressor  0.447844   0.275464  0.420182  0.287097"
      ]
     },
     "execution_count": 18,
     "metadata": {},
     "output_type": "execute_result"
    }
   ],
   "source": [
    "premodelling_pipeline = Pipeline(steps=[\n",
    "    ('scaler', MinMaxScaler()),\n",
    "    ('pca', PCA(n_components=12))\n",
    "])\n",
    "\n",
    "X_train_premodelled = premodelling_pipeline.fit_transform(X_train)\n",
    "X_test_premodelled = premodelling_pipeline.transform(X_test)\n",
    "\n",
    "minmax_pca_12_results, minmax_pca_12_estimators = get_best_models(X_train_premodelled, X_test_premodelled, y_train, y_test)\n",
    "\n",
    "print('Results: ')\n",
    "minmax_pca_12_results"
   ]
  },
  {
   "cell_type": "markdown",
   "metadata": {},
   "source": [
    "Decreasing number of components made even worse results so I moved on to trying out PCA with StandardScaler"
   ]
  },
  {
   "cell_type": "markdown",
   "metadata": {},
   "source": [
    "### Standard Scaler + PCA (29)\n",
    "\n",
    "I made the same kind of plot I generated for min-max-scaled data:"
   ]
  },
  {
   "cell_type": "code",
   "execution_count": 19,
   "metadata": {},
   "outputs": [
    {
     "data": {
      "image/png": "[encoded data removed]",
      "text/plain": [
       "<Figure size 864x432 with 1 Axes>"
      ]
     },
     "metadata": {
      "needs_background": "light"
     },
     "output_type": "display_data"
    }
   ],
   "source": [
    "sc = StandardScaler()\n",
    "X_train_sc = sc.fit_transform(X_train)\n",
    "\n",
    "pca = PCA().fit(X_train_sc)\n",
    "\n",
    "plt.rcParams[\"figure.figsize\"] = (12,6)\n",
    "\n",
    "fig, ax = plt.subplots()\n",
    "xi = np.arange(1, 40, step=1)\n",
    "y = np.cumsum(pca.explained_variance_ratio_)\n",
    "\n",
    "plt.ylim(0.0,1.1)\n",
    "plt.plot(xi, y, marker='o', linestyle='--', color='b')\n",
    "\n",
    "plt.xlabel('Number of Components')\n",
    "plt.xticks(np.arange(0, 40, step=1))\n",
    "plt.ylabel('Cumulative variance (%)')\n",
    "plt.title('The number of components needed to explain variance - Standard Scaler')\n",
    "\n",
    "plt.axhline(y=0.95, color='r', linestyle='-')\n",
    "plt.axhline(y=0.8, color='g', linestyle='-')\n",
    "\n",
    "\n",
    "plt.text(0.5, 0.85, '95% variance', color = 'red', fontsize=16)\n",
    "plt.text(0.5, 0.75, '80% variance', color = 'green', fontsize=16)\n",
    "\n",
    "ax.grid(axis='x')\n",
    "plt.show()"
   ]
  },
  {
   "cell_type": "markdown",
   "metadata": {},
   "source": [
    "The plot indicated that I needed 29 components for 95% explained variance ratio so I made a new *preprocessing_pipeline* in which both train and validation sets are scaled and treated with PCA with 29 components: "
   ]
  },
  {
   "cell_type": "code",
   "execution_count": 20,
   "metadata": {},
   "outputs": [
    {
     "name": "stdout",
     "output_type": "stream",
     "text": [
      "Results: \n"
     ]
    },
    {
     "data": {
      "text/html": [
       "<div>\n",
       "<style scoped>\n",
       "    .dataframe tbody tr th:only-of-type {\n",
       "        vertical-align: middle;\n",
       "    }\n",
       "\n",
       "    .dataframe tbody tr th {\n",
       "        vertical-align: top;\n",
       "    }\n",
       "\n",
       "    .dataframe thead th {\n",
       "        text-align: right;\n",
       "    }\n",
       "</style>\n",
       "<table border=\"1\" class=\"dataframe\">\n",
       "  <thead>\n",
       "    <tr style=\"text-align: right;\">\n",
       "      <th></th>\n",
       "      <th>Model</th>\n",
       "      <th>R2 train</th>\n",
       "      <th>MSE train</th>\n",
       "      <th>R2 test</th>\n",
       "      <th>MSE test</th>\n",
       "    </tr>\n",
       "  </thead>\n",
       "  <tbody>\n",
       "    <tr>\n",
       "      <th>0</th>\n",
       "      <td>Linear Regression</td>\n",
       "      <td>0.553377</td>\n",
       "      <td>0.222815</td>\n",
       "      <td>0.552809</td>\n",
       "      <td>0.221427</td>\n",
       "    </tr>\n",
       "    <tr>\n",
       "      <th>1</th>\n",
       "      <td>ElasticNet</td>\n",
       "      <td>0.649011</td>\n",
       "      <td>0.175104</td>\n",
       "      <td>0.628783</td>\n",
       "      <td>0.183809</td>\n",
       "    </tr>\n",
       "    <tr>\n",
       "      <th>2</th>\n",
       "      <td>Lasso</td>\n",
       "      <td>0.648911</td>\n",
       "      <td>0.175154</td>\n",
       "      <td>0.629278</td>\n",
       "      <td>0.183563</td>\n",
       "    </tr>\n",
       "    <tr>\n",
       "      <th>3</th>\n",
       "      <td>Decision Tree Regressor</td>\n",
       "      <td>0.577023</td>\n",
       "      <td>0.211018</td>\n",
       "      <td>0.489088</td>\n",
       "      <td>0.252979</td>\n",
       "    </tr>\n",
       "    <tr>\n",
       "      <th>4</th>\n",
       "      <td>Random Forest Regressor</td>\n",
       "      <td>0.947326</td>\n",
       "      <td>0.026278</td>\n",
       "      <td>0.627450</td>\n",
       "      <td>0.184468</td>\n",
       "    </tr>\n",
       "    <tr>\n",
       "      <th>5</th>\n",
       "      <td>Voting Regressor</td>\n",
       "      <td>0.732994</td>\n",
       "      <td>0.133206</td>\n",
       "      <td>0.633506</td>\n",
       "      <td>0.181470</td>\n",
       "    </tr>\n",
       "    <tr>\n",
       "      <th>6</th>\n",
       "      <td>Gradient Boosting Regressor</td>\n",
       "      <td>0.605642</td>\n",
       "      <td>0.196741</td>\n",
       "      <td>0.585609</td>\n",
       "      <td>0.205186</td>\n",
       "    </tr>\n",
       "  </tbody>\n",
       "</table>\n",
       "</div>"
      ],
      "text/plain": [
       "                         Model  R2 train  MSE train   R2 test  MSE test\n",
       "0            Linear Regression  0.553377   0.222815  0.552809  0.221427\n",
       "1                   ElasticNet  0.649011   0.175104  0.628783  0.183809\n",
       "2                        Lasso  0.648911   0.175154  0.629278  0.183563\n",
       "3      Decision Tree Regressor  0.577023   0.211018  0.489088  0.252979\n",
       "4      Random Forest Regressor  0.947326   0.026278  0.627450  0.184468\n",
       "5             Voting Regressor  0.732994   0.133206  0.633506  0.181470\n",
       "6  Gradient Boosting Regressor  0.605642   0.196741  0.585609  0.205186"
      ]
     },
     "execution_count": 20,
     "metadata": {},
     "output_type": "execute_result"
    }
   ],
   "source": [
    "X_train = X_train_preprocessed\n",
    "X_test = X_test_preprocessed\n",
    "\n",
    "premodelling_pipeline = Pipeline(steps=[\n",
    "    ('scaler', StandardScaler()),\n",
    "    ('pca', PCA(n_components=29))\n",
    "])\n",
    "\n",
    "X_train_premodelled = premodelling_pipeline.fit_transform(X_train)\n",
    "X_test_premodelled = premodelling_pipeline.transform(X_test)\n",
    "\n",
    "std_pca_29_results, std_pca_29_estimators = get_best_models(X_train_premodelled, X_test_premodelled, y_train, y_test)\n",
    "\n",
    "print('Results: ')\n",
    "std_pca_29_results"
   ]
  },
  {
   "cell_type": "markdown",
   "metadata": {},
   "source": [
    "PCA on data scaled with *StandardScaler* definitely worked better! All models performances have increased. *RandomForestRegressor* is still overfitting. The best MSE score on validation data has *VotingRegressor* however *Elasticnet* and *Lasso* have just slightly higher MSE score with the lowest training-error test-error difference.\n",
    "\n",
    "Since decreasing number of components gave worse results for min-max scaled data, I decided not to try PCA with 80% explained variance ratio on standarized sets."
   ]
  },
  {
   "cell_type": "markdown",
   "metadata": {},
   "source": [
    "### Pearson feature selection\n",
    "\n",
    "I have also tried using Pearson correlation coefficient in *SelectKBest* on pure preprocessed data, to choose either 5, 10 or 20 best original features for my model:"
   ]
  },
  {
   "cell_type": "code",
   "execution_count": 21,
   "metadata": {},
   "outputs": [],
   "source": [
    "pearson_data_representations = {}\n",
    "\n",
    "for k in [5,10,20]:\n",
    "    \n",
    "    X_train = X_train_preprocessed\n",
    "    X_test = X_test_preprocessed\n",
    "\n",
    "    fs = SelectKBest(score_func=f_regression, k=k)\n",
    "\n",
    "    X_train_premodelled = fs.fit_transform(X_train, y_train)\n",
    "    X_test_premodelled = fs.transform(X_test)\n",
    "    \n",
    "    item = {str(k) : get_best_models(X_train_premodelled, X_test_premodelled, y_train, y_test)}\n",
    "    pearson_data_representations.update(item)\n",
    "    \n",
    "\n"
   ]
  },
  {
   "cell_type": "code",
   "execution_count": 22,
   "metadata": {},
   "outputs": [
    {
     "name": "stdout",
     "output_type": "stream",
     "text": [
      "RESULTS FOR 5 FEATURES SELECTED WITH PEARSON METHOD: \n"
     ]
    },
    {
     "data": {
      "text/html": [
       "<div>\n",
       "<style scoped>\n",
       "    .dataframe tbody tr th:only-of-type {\n",
       "        vertical-align: middle;\n",
       "    }\n",
       "\n",
       "    .dataframe tbody tr th {\n",
       "        vertical-align: top;\n",
       "    }\n",
       "\n",
       "    .dataframe thead th {\n",
       "        text-align: right;\n",
       "    }\n",
       "</style>\n",
       "<table border=\"1\" class=\"dataframe\">\n",
       "  <thead>\n",
       "    <tr style=\"text-align: right;\">\n",
       "      <th></th>\n",
       "      <th>Model</th>\n",
       "      <th>R2 train</th>\n",
       "      <th>MSE train</th>\n",
       "      <th>R2 test</th>\n",
       "      <th>MSE test</th>\n",
       "    </tr>\n",
       "  </thead>\n",
       "  <tbody>\n",
       "    <tr>\n",
       "      <th>0</th>\n",
       "      <td>Linear Regression</td>\n",
       "      <td>0.537900</td>\n",
       "      <td>0.230536</td>\n",
       "      <td>0.539840</td>\n",
       "      <td>0.227849</td>\n",
       "    </tr>\n",
       "    <tr>\n",
       "      <th>1</th>\n",
       "      <td>ElasticNet</td>\n",
       "      <td>0.537898</td>\n",
       "      <td>0.230537</td>\n",
       "      <td>0.539788</td>\n",
       "      <td>0.227875</td>\n",
       "    </tr>\n",
       "    <tr>\n",
       "      <th>2</th>\n",
       "      <td>Lasso</td>\n",
       "      <td>0.537896</td>\n",
       "      <td>0.230538</td>\n",
       "      <td>0.539750</td>\n",
       "      <td>0.227893</td>\n",
       "    </tr>\n",
       "    <tr>\n",
       "      <th>3</th>\n",
       "      <td>Decision Tree Regressor</td>\n",
       "      <td>0.566323</td>\n",
       "      <td>0.216356</td>\n",
       "      <td>0.548449</td>\n",
       "      <td>0.223586</td>\n",
       "    </tr>\n",
       "    <tr>\n",
       "      <th>4</th>\n",
       "      <td>Random Forest Regressor</td>\n",
       "      <td>0.615570</td>\n",
       "      <td>0.191788</td>\n",
       "      <td>0.544600</td>\n",
       "      <td>0.225492</td>\n",
       "    </tr>\n",
       "    <tr>\n",
       "      <th>5</th>\n",
       "      <td>Voting Regressor</td>\n",
       "      <td>0.572117</td>\n",
       "      <td>0.213466</td>\n",
       "      <td>0.556502</td>\n",
       "      <td>0.219598</td>\n",
       "    </tr>\n",
       "    <tr>\n",
       "      <th>6</th>\n",
       "      <td>Gradient Boosting Regressor</td>\n",
       "      <td>0.555419</td>\n",
       "      <td>0.221796</td>\n",
       "      <td>0.552202</td>\n",
       "      <td>0.221728</td>\n",
       "    </tr>\n",
       "  </tbody>\n",
       "</table>\n",
       "</div>"
      ],
      "text/plain": [
       "                         Model  R2 train  MSE train   R2 test  MSE test\n",
       "0            Linear Regression  0.537900   0.230536  0.539840  0.227849\n",
       "1                   ElasticNet  0.537898   0.230537  0.539788  0.227875\n",
       "2                        Lasso  0.537896   0.230538  0.539750  0.227893\n",
       "3      Decision Tree Regressor  0.566323   0.216356  0.548449  0.223586\n",
       "4      Random Forest Regressor  0.615570   0.191788  0.544600  0.225492\n",
       "5             Voting Regressor  0.572117   0.213466  0.556502  0.219598\n",
       "6  Gradient Boosting Regressor  0.555419   0.221796  0.552202  0.221728"
      ]
     },
     "execution_count": 22,
     "metadata": {},
     "output_type": "execute_result"
    }
   ],
   "source": [
    "print('RESULTS FOR 5 FEATURES SELECTED WITH PEARSON METHOD: ')\n",
    "pearson_data_representations['5'][0]"
   ]
  },
  {
   "cell_type": "code",
   "execution_count": 23,
   "metadata": {},
   "outputs": [
    {
     "name": "stdout",
     "output_type": "stream",
     "text": [
      "RESULTS FOR 10 FEATURES SELECTED WITH PEARSON METHOD: \n"
     ]
    },
    {
     "data": {
      "text/html": [
       "<div>\n",
       "<style scoped>\n",
       "    .dataframe tbody tr th:only-of-type {\n",
       "        vertical-align: middle;\n",
       "    }\n",
       "\n",
       "    .dataframe tbody tr th {\n",
       "        vertical-align: top;\n",
       "    }\n",
       "\n",
       "    .dataframe thead th {\n",
       "        text-align: right;\n",
       "    }\n",
       "</style>\n",
       "<table border=\"1\" class=\"dataframe\">\n",
       "  <thead>\n",
       "    <tr style=\"text-align: right;\">\n",
       "      <th></th>\n",
       "      <th>Model</th>\n",
       "      <th>R2 train</th>\n",
       "      <th>MSE train</th>\n",
       "      <th>R2 test</th>\n",
       "      <th>MSE test</th>\n",
       "    </tr>\n",
       "  </thead>\n",
       "  <tbody>\n",
       "    <tr>\n",
       "      <th>0</th>\n",
       "      <td>Linear Regression</td>\n",
       "      <td>0.590676</td>\n",
       "      <td>0.204207</td>\n",
       "      <td>0.593736</td>\n",
       "      <td>0.201162</td>\n",
       "    </tr>\n",
       "    <tr>\n",
       "      <th>1</th>\n",
       "      <td>ElasticNet</td>\n",
       "      <td>0.569058</td>\n",
       "      <td>0.214992</td>\n",
       "      <td>0.570042</td>\n",
       "      <td>0.212894</td>\n",
       "    </tr>\n",
       "    <tr>\n",
       "      <th>2</th>\n",
       "      <td>Lasso</td>\n",
       "      <td>0.569192</td>\n",
       "      <td>0.214925</td>\n",
       "      <td>0.570174</td>\n",
       "      <td>0.212829</td>\n",
       "    </tr>\n",
       "    <tr>\n",
       "      <th>3</th>\n",
       "      <td>Decision Tree Regressor</td>\n",
       "      <td>0.625130</td>\n",
       "      <td>0.187018</td>\n",
       "      <td>0.587627</td>\n",
       "      <td>0.204187</td>\n",
       "    </tr>\n",
       "    <tr>\n",
       "      <th>4</th>\n",
       "      <td>Random Forest Regressor</td>\n",
       "      <td>0.942786</td>\n",
       "      <td>0.028543</td>\n",
       "      <td>0.601702</td>\n",
       "      <td>0.197218</td>\n",
       "    </tr>\n",
       "    <tr>\n",
       "      <th>5</th>\n",
       "      <td>Voting Regressor</td>\n",
       "      <td>0.705896</td>\n",
       "      <td>0.146725</td>\n",
       "      <td>0.620897</td>\n",
       "      <td>0.187713</td>\n",
       "    </tr>\n",
       "    <tr>\n",
       "      <th>6</th>\n",
       "      <td>Gradient Boosting Regressor</td>\n",
       "      <td>0.618189</td>\n",
       "      <td>0.190481</td>\n",
       "      <td>0.615476</td>\n",
       "      <td>0.190397</td>\n",
       "    </tr>\n",
       "  </tbody>\n",
       "</table>\n",
       "</div>"
      ],
      "text/plain": [
       "                         Model  R2 train  MSE train   R2 test  MSE test\n",
       "0            Linear Regression  0.590676   0.204207  0.593736  0.201162\n",
       "1                   ElasticNet  0.569058   0.214992  0.570042  0.212894\n",
       "2                        Lasso  0.569192   0.214925  0.570174  0.212829\n",
       "3      Decision Tree Regressor  0.625130   0.187018  0.587627  0.204187\n",
       "4      Random Forest Regressor  0.942786   0.028543  0.601702  0.197218\n",
       "5             Voting Regressor  0.705896   0.146725  0.620897  0.187713\n",
       "6  Gradient Boosting Regressor  0.618189   0.190481  0.615476  0.190397"
      ]
     },
     "execution_count": 23,
     "metadata": {},
     "output_type": "execute_result"
    }
   ],
   "source": [
    "print('RESULTS FOR 10 FEATURES SELECTED WITH PEARSON METHOD: ')\n",
    "pearson_data_representations['10'][0]"
   ]
  },
  {
   "cell_type": "code",
   "execution_count": 24,
   "metadata": {},
   "outputs": [
    {
     "name": "stdout",
     "output_type": "stream",
     "text": [
      "RESULTS FOR 20 FEATURES SELECTED WITH PEARSON METHOD: \n"
     ]
    },
    {
     "data": {
      "text/html": [
       "<div>\n",
       "<style scoped>\n",
       "    .dataframe tbody tr th:only-of-type {\n",
       "        vertical-align: middle;\n",
       "    }\n",
       "\n",
       "    .dataframe tbody tr th {\n",
       "        vertical-align: top;\n",
       "    }\n",
       "\n",
       "    .dataframe thead th {\n",
       "        text-align: right;\n",
       "    }\n",
       "</style>\n",
       "<table border=\"1\" class=\"dataframe\">\n",
       "  <thead>\n",
       "    <tr style=\"text-align: right;\">\n",
       "      <th></th>\n",
       "      <th>Model</th>\n",
       "      <th>R2 train</th>\n",
       "      <th>MSE train</th>\n",
       "      <th>R2 test</th>\n",
       "      <th>MSE test</th>\n",
       "    </tr>\n",
       "  </thead>\n",
       "  <tbody>\n",
       "    <tr>\n",
       "      <th>0</th>\n",
       "      <td>Linear Regression</td>\n",
       "      <td>0.628132</td>\n",
       "      <td>0.185521</td>\n",
       "      <td>0.626037</td>\n",
       "      <td>0.185168</td>\n",
       "    </tr>\n",
       "    <tr>\n",
       "      <th>1</th>\n",
       "      <td>ElasticNet</td>\n",
       "      <td>0.595302</td>\n",
       "      <td>0.201899</td>\n",
       "      <td>0.594318</td>\n",
       "      <td>0.200874</td>\n",
       "    </tr>\n",
       "    <tr>\n",
       "      <th>2</th>\n",
       "      <td>Lasso</td>\n",
       "      <td>0.595263</td>\n",
       "      <td>0.201918</td>\n",
       "      <td>0.594385</td>\n",
       "      <td>0.200841</td>\n",
       "    </tr>\n",
       "    <tr>\n",
       "      <th>3</th>\n",
       "      <td>Decision Tree Regressor</td>\n",
       "      <td>0.659428</td>\n",
       "      <td>0.169907</td>\n",
       "      <td>0.623369</td>\n",
       "      <td>0.186489</td>\n",
       "    </tr>\n",
       "    <tr>\n",
       "      <th>4</th>\n",
       "      <td>Random Forest Regressor</td>\n",
       "      <td>0.956166</td>\n",
       "      <td>0.021868</td>\n",
       "      <td>0.701965</td>\n",
       "      <td>0.147572</td>\n",
       "    </tr>\n",
       "    <tr>\n",
       "      <th>5</th>\n",
       "      <td>Voting Regressor</td>\n",
       "      <td>0.736502</td>\n",
       "      <td>0.131456</td>\n",
       "      <td>0.665811</td>\n",
       "      <td>0.165474</td>\n",
       "    </tr>\n",
       "    <tr>\n",
       "      <th>6</th>\n",
       "      <td>Gradient Boosting Regressor</td>\n",
       "      <td>0.657020</td>\n",
       "      <td>0.171109</td>\n",
       "      <td>0.653974</td>\n",
       "      <td>0.171335</td>\n",
       "    </tr>\n",
       "  </tbody>\n",
       "</table>\n",
       "</div>"
      ],
      "text/plain": [
       "                         Model  R2 train  MSE train   R2 test  MSE test\n",
       "0            Linear Regression  0.628132   0.185521  0.626037  0.185168\n",
       "1                   ElasticNet  0.595302   0.201899  0.594318  0.200874\n",
       "2                        Lasso  0.595263   0.201918  0.594385  0.200841\n",
       "3      Decision Tree Regressor  0.659428   0.169907  0.623369  0.186489\n",
       "4      Random Forest Regressor  0.956166   0.021868  0.701965  0.147572\n",
       "5             Voting Regressor  0.736502   0.131456  0.665811  0.165474\n",
       "6  Gradient Boosting Regressor  0.657020   0.171109  0.653974  0.171335"
      ]
     },
     "execution_count": 24,
     "metadata": {},
     "output_type": "execute_result"
    }
   ],
   "source": [
    "print('RESULTS FOR 20 FEATURES SELECTED WITH PEARSON METHOD: ')\n",
    "pearson_data_representations['20'][0]"
   ]
  },
  {
   "cell_type": "markdown",
   "metadata": {},
   "source": [
    "Using Pearson's feature selection, it turned out the higher number of features chosen with Pearson, the better models' general performance!\n",
    "\n",
    "*VotingRegressor* and *GradientBoostingRegressor* were potential winners at this point. \n",
    "\n",
    "Despite of the fact that *VotingRegressor* had slightly lower MSE than *GradientBoostingRegressor*, the second one was better model in my opinion since the training and test error were virtually the same! \n",
    "\n",
    "*RandomForestRegressor* overfitted but the difference between training and test score has decreased though.\n"
   ]
  },
  {
   "cell_type": "markdown",
   "metadata": {},
   "source": [
    "### Standard Scaler + all original features"
   ]
  },
  {
   "cell_type": "markdown",
   "metadata": {},
   "source": [
    "Seeing that *StandardScaler* was more efficient when using PCA and increasing number of features was giving better results while using Pearson feature selection, I have decided to try using all original features of the preprocessed train set, scaled with *StandardScaler* before:"
   ]
  },
  {
   "cell_type": "code",
   "execution_count": 25,
   "metadata": {},
   "outputs": [],
   "source": [
    "X_train = X_train_preprocessed\n",
    "X_test = X_test_preprocessed\n",
    "\n",
    "sc = StandardScaler()\n",
    "X_train_std = sc.fit_transform(X_train, y_train)\n",
    "X_test_std = sc.transform(X_test)\n",
    "\n",
    "std_results, std_estimators = get_best_models(X_train_std, X_test_std, y_train, y_test)"
   ]
  },
  {
   "cell_type": "code",
   "execution_count": 26,
   "metadata": {},
   "outputs": [
    {
     "data": {
      "text/html": [
       "<div>\n",
       "<style scoped>\n",
       "    .dataframe tbody tr th:only-of-type {\n",
       "        vertical-align: middle;\n",
       "    }\n",
       "\n",
       "    .dataframe tbody tr th {\n",
       "        vertical-align: top;\n",
       "    }\n",
       "\n",
       "    .dataframe thead th {\n",
       "        text-align: right;\n",
       "    }\n",
       "</style>\n",
       "<table border=\"1\" class=\"dataframe\">\n",
       "  <thead>\n",
       "    <tr style=\"text-align: right;\">\n",
       "      <th></th>\n",
       "      <th>Model</th>\n",
       "      <th>R2 train</th>\n",
       "      <th>MSE train</th>\n",
       "      <th>R2 test</th>\n",
       "      <th>MSE test</th>\n",
       "    </tr>\n",
       "  </thead>\n",
       "  <tbody>\n",
       "    <tr>\n",
       "      <th>0</th>\n",
       "      <td>Linear Regression</td>\n",
       "      <td>0.572023</td>\n",
       "      <td>0.213513</td>\n",
       "      <td>0.570408</td>\n",
       "      <td>0.212713</td>\n",
       "    </tr>\n",
       "    <tr>\n",
       "      <th>1</th>\n",
       "      <td>ElasticNet</td>\n",
       "      <td>0.665658</td>\n",
       "      <td>0.166799</td>\n",
       "      <td>0.648674</td>\n",
       "      <td>0.173959</td>\n",
       "    </tr>\n",
       "    <tr>\n",
       "      <th>2</th>\n",
       "      <td>Lasso</td>\n",
       "      <td>0.668012</td>\n",
       "      <td>0.165625</td>\n",
       "      <td>0.645165</td>\n",
       "      <td>0.175697</td>\n",
       "    </tr>\n",
       "    <tr>\n",
       "      <th>3</th>\n",
       "      <td>Decision Tree Regressor</td>\n",
       "      <td>0.665918</td>\n",
       "      <td>0.166670</td>\n",
       "      <td>0.612729</td>\n",
       "      <td>0.191758</td>\n",
       "    </tr>\n",
       "    <tr>\n",
       "      <th>4</th>\n",
       "      <td>Random Forest Regressor</td>\n",
       "      <td>0.959331</td>\n",
       "      <td>0.020289</td>\n",
       "      <td>0.724116</td>\n",
       "      <td>0.136604</td>\n",
       "    </tr>\n",
       "    <tr>\n",
       "      <th>5</th>\n",
       "      <td>Voting Regressor</td>\n",
       "      <td>0.759523</td>\n",
       "      <td>0.119971</td>\n",
       "      <td>0.687923</td>\n",
       "      <td>0.154525</td>\n",
       "    </tr>\n",
       "    <tr>\n",
       "      <th>6</th>\n",
       "      <td>Gradient Boosting Regressor</td>\n",
       "      <td>0.680088</td>\n",
       "      <td>0.159601</td>\n",
       "      <td>0.676274</td>\n",
       "      <td>0.160293</td>\n",
       "    </tr>\n",
       "  </tbody>\n",
       "</table>\n",
       "</div>"
      ],
      "text/plain": [
       "                         Model  R2 train  MSE train   R2 test  MSE test\n",
       "0            Linear Regression  0.572023   0.213513  0.570408  0.212713\n",
       "1                   ElasticNet  0.665658   0.166799  0.648674  0.173959\n",
       "2                        Lasso  0.668012   0.165625  0.645165  0.175697\n",
       "3      Decision Tree Regressor  0.665918   0.166670  0.612729  0.191758\n",
       "4      Random Forest Regressor  0.959331   0.020289  0.724116  0.136604\n",
       "5             Voting Regressor  0.759523   0.119971  0.687923  0.154525\n",
       "6  Gradient Boosting Regressor  0.680088   0.159601  0.676274  0.160293"
      ]
     },
     "execution_count": 26,
     "metadata": {},
     "output_type": "execute_result"
    }
   ],
   "source": [
    "std_results"
   ]
  },
  {
   "cell_type": "markdown",
   "metadata": {},
   "source": [
    "That was the best solution I have found! \n",
    "I decided to pick *GradientBoostingRegressor* to be a model I would like to try on the test set! As I wrote before, maybe it was not a best solution in terms of MSE error on a validation set's predictions yet it was the estimator with the lowest training error-validation error difference!"
   ]
  },
  {
   "cell_type": "markdown",
   "metadata": {},
   "source": [
    "### Chosen solution"
   ]
  },
  {
   "cell_type": "markdown",
   "metadata": {},
   "source": [
    "I have saved the chosen model along with a proper scaler, to .joblib files to use it in the last part of this project:"
   ]
  },
  {
   "cell_type": "code",
   "execution_count": 27,
   "metadata": {},
   "outputs": [
    {
     "data": {
      "text/plain": [
       "GradientBoostingRegressor()"
      ]
     },
     "execution_count": 27,
     "metadata": {},
     "output_type": "execute_result"
    }
   ],
   "source": [
    "chosen_model = std_estimators[6]\n",
    "chosen_model"
   ]
  },
  {
   "cell_type": "code",
   "execution_count": 28,
   "metadata": {},
   "outputs": [
    {
     "data": {
      "text/plain": [
       "['model.joblib']"
      ]
     },
     "execution_count": 28,
     "metadata": {},
     "output_type": "execute_result"
    }
   ],
   "source": [
    "dump(sc, 'scaler.joblib')\n",
    "dump(chosen_model, 'model.joblib')"
   ]
  },
  {
   "cell_type": "markdown",
   "metadata": {},
   "source": [
    "Finding a model process was finished. It was the time to check the chosen model on a real test set!"
   ]
  }
 ],
 "metadata": {
  "kernelspec": {
   "display_name": "Python 3",
   "language": "python",
   "name": "python3"
  },
  "language_info": {
   "codemirror_mode": {
    "name": "ipython",
    "version": 3
   },
   "file_extension": ".py",
   "mimetype": "text/x-python",
   "name": "python",
   "nbconvert_exporter": "python",
   "pygments_lexer": "ipython3",
   "version": "3.8.3"
  }
 },
 "nbformat": 4,
 "nbformat_minor": 4
}
